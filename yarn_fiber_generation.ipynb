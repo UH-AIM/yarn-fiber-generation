{
 "cells": [
  {
   "cell_type": "code",
   "execution_count": 2,
   "id": "12743417",
   "metadata": {},
   "outputs": [],
   "source": [
    "%load_ext autoreload\n",
    "%autoreload 2\n",
    "from math import sin, cos, sqrt, pow, pi\n",
    "import yarn_fiber as yf"
   ]
  },
  {
   "cell_type": "code",
   "execution_count": 3,
   "id": "85d45447",
   "metadata": {},
   "outputs": [],
   "source": [
    "nRows = 5 # number of rows generated\n",
    "nLoops = 5 # number of loops in each row\n",
    "samplesPerLoop = 64 # points sampled per period\n",
    "nFibers = 4 # number of twisted fibers\n",
    "a = 3/2. # loop roundness\n",
    "d = 1. # loop depth\n",
    "h = 4. # loop height\n",
    "w = h + 1./2. # row spacing\n",
    "r = 1./2. # yarn radius\n",
    "omega = 5. # fiber twist\n",
    "phi = pi/2. # fiber offset\n",
    "    \n",
    "yf.writeYarnCurves(\"yarn.obj\", nRows, w, nLoops, samplesPerLoop, a, h, d)\n",
    "yf.writeFiberCurves(\"fibers.obj\", nRows, w, nLoops, samplesPerLoop, a, h, d, r, omega, nFibers)\n"
   ]
  },
  {
   "cell_type": "code",
   "execution_count": null,
   "id": "1932f833",
   "metadata": {},
   "outputs": [],
   "source": []
  }
 ],
 "metadata": {
  "kernelspec": {
   "display_name": "Python 3",
   "language": "python",
   "name": "python3"
  },
  "language_info": {
   "codemirror_mode": {
    "name": "ipython",
    "version": 3
   },
   "file_extension": ".py",
   "mimetype": "text/x-python",
   "name": "python",
   "nbconvert_exporter": "python",
   "pygments_lexer": "ipython3",
   "version": "3.9.9"
  }
 },
 "nbformat": 4,
 "nbformat_minor": 5
}
